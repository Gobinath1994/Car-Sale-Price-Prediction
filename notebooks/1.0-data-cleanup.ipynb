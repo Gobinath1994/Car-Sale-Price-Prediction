{
 "cells": [
  {
   "cell_type": "code",
   "execution_count": 1,
   "id": "41770cc4",
   "metadata": {},
   "outputs": [],
   "source": [
    "import pandas as pd\n",
    "import numpy as np\n",
    "import seaborn as sns\n",
    "import matplotlib.pyplot as plt\n",
    "%matplotlib inline\n",
    "\n",
    "from tqdm import tqdm\n",
    "from sklearn.experimental import enable_iterative_imputer\n",
    "from sklearn.impute import IterativeImputer\n",
    "from sklearn.ensemble import ExtraTreesRegressor\n",
    "from sklearn.linear_model import BayesianRidge\n",
    "from sklearn.tree import DecisionTreeRegressor\n",
    "from sklearn.neighbors import KNeighborsRegressor\n",
    "from sklearn.preprocessing import OrdinalEncoder\n",
    "from sklearn import preprocessing\n",
    "\n",
    "from sklearn.model_selection import cross_val_score\n",
    "from sklearn.impute import SimpleImputer\n",
    "from sklearn.pipeline import make_pipeline\n",
    "\n",
    "import warnings\n",
    "warnings.filterwarnings('ignore')"
   ]
  },
  {
   "cell_type": "code",
   "execution_count": 2,
   "id": "2440ae6b",
   "metadata": {},
   "outputs": [
    {
     "data": {
      "text/html": [
       "<div>\n",
       "<style scoped>\n",
       "    .dataframe tbody tr th:only-of-type {\n",
       "        vertical-align: middle;\n",
       "    }\n",
       "\n",
       "    .dataframe tbody tr th {\n",
       "        vertical-align: top;\n",
       "    }\n",
       "\n",
       "    .dataframe thead th {\n",
       "        text-align: right;\n",
       "    }\n",
       "</style>\n",
       "<table border=\"1\" class=\"dataframe\">\n",
       "  <thead>\n",
       "    <tr style=\"text-align: right;\">\n",
       "      <th></th>\n",
       "      <th>Unnamed: 0</th>\n",
       "      <th>Advertised_Date</th>\n",
       "      <th>Sold_Date</th>\n",
       "      <th>Sale_Price</th>\n",
       "      <th>Odometer</th>\n",
       "      <th>Power</th>\n",
       "      <th>Fuel_Urban</th>\n",
       "      <th>Make_Code</th>\n",
       "      <th>Family_Code</th>\n",
       "      <th>Year_Group</th>\n",
       "      <th>Region_Description</th>\n",
       "      <th>Vehicle_Code</th>\n",
       "    </tr>\n",
       "  </thead>\n",
       "  <tbody>\n",
       "    <tr>\n",
       "      <th>0</th>\n",
       "      <td>0</td>\n",
       "      <td>2020-06-24 00:00:00</td>\n",
       "      <td>2020-07-23</td>\n",
       "      <td>46935.54</td>\n",
       "      <td>7756.0</td>\n",
       "      <td>213.0</td>\n",
       "      <td>13.5</td>\n",
       "      <td>JEEP</td>\n",
       "      <td>GRAND</td>\n",
       "      <td>2019</td>\n",
       "      <td>WA</td>\n",
       "      <td>4126136366665310352</td>\n",
       "    </tr>\n",
       "    <tr>\n",
       "      <th>1</th>\n",
       "      <td>1</td>\n",
       "      <td>2019-11-21 00:00:00</td>\n",
       "      <td>2020-01-13</td>\n",
       "      <td>60556.34</td>\n",
       "      <td>2200.0</td>\n",
       "      <td>184.0</td>\n",
       "      <td>9.3</td>\n",
       "      <td>JEEP</td>\n",
       "      <td>GRAND</td>\n",
       "      <td>2019</td>\n",
       "      <td>WA</td>\n",
       "      <td>4976226188052338111</td>\n",
       "    </tr>\n",
       "    <tr>\n",
       "      <th>2</th>\n",
       "      <td>2</td>\n",
       "      <td>2019-08-21 00:00:00</td>\n",
       "      <td>2019-10-15</td>\n",
       "      <td>39970.00</td>\n",
       "      <td>38674.0</td>\n",
       "      <td>184.0</td>\n",
       "      <td>9.3</td>\n",
       "      <td>JEEP</td>\n",
       "      <td>GRAND</td>\n",
       "      <td>2017</td>\n",
       "      <td>WA</td>\n",
       "      <td>-5679626332524971677</td>\n",
       "    </tr>\n",
       "    <tr>\n",
       "      <th>3</th>\n",
       "      <td>3</td>\n",
       "      <td>2019-10-04 00:00:00</td>\n",
       "      <td>2019-11-12</td>\n",
       "      <td>19008.77</td>\n",
       "      <td>54627.0</td>\n",
       "      <td>200.0</td>\n",
       "      <td>13.9</td>\n",
       "      <td>JEEP</td>\n",
       "      <td>CHEROKE</td>\n",
       "      <td>2014</td>\n",
       "      <td>WA</td>\n",
       "      <td>613567331764064986</td>\n",
       "    </tr>\n",
       "    <tr>\n",
       "      <th>4</th>\n",
       "      <td>4</td>\n",
       "      <td>2019-04-08 00:00:00</td>\n",
       "      <td>2019-07-16</td>\n",
       "      <td>39545.45</td>\n",
       "      <td>57984.0</td>\n",
       "      <td>184.0</td>\n",
       "      <td>9.3</td>\n",
       "      <td>JEEP</td>\n",
       "      <td>GRAND</td>\n",
       "      <td>2016</td>\n",
       "      <td>WA</td>\n",
       "      <td>8983149599916055195</td>\n",
       "    </tr>\n",
       "  </tbody>\n",
       "</table>\n",
       "</div>"
      ],
      "text/plain": [
       "   Unnamed: 0      Advertised_Date   Sold_Date  Sale_Price  Odometer  Power  \\\n",
       "0           0  2020-06-24 00:00:00  2020-07-23    46935.54    7756.0  213.0   \n",
       "1           1  2019-11-21 00:00:00  2020-01-13    60556.34    2200.0  184.0   \n",
       "2           2  2019-08-21 00:00:00  2019-10-15    39970.00   38674.0  184.0   \n",
       "3           3  2019-10-04 00:00:00  2019-11-12    19008.77   54627.0  200.0   \n",
       "4           4  2019-04-08 00:00:00  2019-07-16    39545.45   57984.0  184.0   \n",
       "\n",
       "   Fuel_Urban Make_Code Family_Code  Year_Group Region_Description  \\\n",
       "0        13.5      JEEP       GRAND        2019                 WA   \n",
       "1         9.3      JEEP       GRAND        2019                 WA   \n",
       "2         9.3      JEEP       GRAND        2017                 WA   \n",
       "3        13.9      JEEP     CHEROKE        2014                 WA   \n",
       "4         9.3      JEEP       GRAND        2016                 WA   \n",
       "\n",
       "          Vehicle_Code  \n",
       "0  4126136366665310352  \n",
       "1  4976226188052338111  \n",
       "2 -5679626332524971677  \n",
       "3   613567331764064986  \n",
       "4  8983149599916055195  "
      ]
     },
     "execution_count": 2,
     "metadata": {},
     "output_type": "execute_result"
    }
   ],
   "source": [
    "#Load DataFrame\n",
    "df = pd.read_csv('/Users/gobinathsindhuja/Desktop/Prospa_assignment/supervised_learning_project/data/saleprice_dataset.csv')\n",
    "df = pd.DataFrame(df)\n",
    "df.head()"
   ]
  },
  {
   "cell_type": "code",
   "execution_count": 3,
   "id": "431b7bbe",
   "metadata": {},
   "outputs": [],
   "source": [
    "#Re-index DataFrame so that the 'Sale_Price' column is last\n",
    "df = df.reindex(columns=[\"Advertised_Date\",\"Sold_Date\",\"Odometer\",\"Power\",\"Fuel_Urban\",\"Make_Code\",\"Family_Code\",\"Year_Group\",\"Region_Description\",\"Vehicle_Code\",'Sale_Price'])"
   ]
  },
  {
   "cell_type": "code",
   "execution_count": 4,
   "id": "a0f6e75e",
   "metadata": {},
   "outputs": [
    {
     "name": "stdout",
     "output_type": "stream",
     "text": [
      "<class 'pandas.core.frame.DataFrame'>\n",
      "RangeIndex: 122595 entries, 0 to 122594\n",
      "Data columns (total 11 columns):\n",
      " #   Column              Non-Null Count   Dtype  \n",
      "---  ------              --------------   -----  \n",
      " 0   Advertised_Date     122595 non-null  object \n",
      " 1   Sold_Date           122595 non-null  object \n",
      " 2   Odometer            122563 non-null  float64\n",
      " 3   Power               122516 non-null  float64\n",
      " 4   Fuel_Urban          108789 non-null  float64\n",
      " 5   Make_Code           122595 non-null  object \n",
      " 6   Family_Code         122595 non-null  object \n",
      " 7   Year_Group          122595 non-null  int64  \n",
      " 8   Region_Description  122595 non-null  object \n",
      " 9   Vehicle_Code        122595 non-null  int64  \n",
      " 10  Sale_Price          122595 non-null  float64\n",
      "dtypes: float64(4), int64(2), object(5)\n",
      "memory usage: 10.3+ MB\n"
     ]
    }
   ],
   "source": [
    "df.info()"
   ]
  },
  {
   "cell_type": "code",
   "execution_count": 5,
   "id": "729a70af",
   "metadata": {},
   "outputs": [
    {
     "data": {
      "text/plain": [
       "(122595, 11)"
      ]
     },
     "execution_count": 5,
     "metadata": {},
     "output_type": "execute_result"
    }
   ],
   "source": [
    "df.shape"
   ]
  },
  {
   "cell_type": "markdown",
   "id": "0a263eab",
   "metadata": {},
   "source": [
    "## Data Cleaning\n",
    "\n",
    "### 1. Address Missing Values"
   ]
  },
  {
   "cell_type": "code",
   "execution_count": 6,
   "id": "63f277b4",
   "metadata": {},
   "outputs": [
    {
     "data": {
      "text/plain": [
       "Advertised_Date           0\n",
       "Sold_Date                 0\n",
       "Odometer                 32\n",
       "Power                    79\n",
       "Fuel_Urban            13806\n",
       "Make_Code                 0\n",
       "Family_Code               0\n",
       "Year_Group                0\n",
       "Region_Description        0\n",
       "Vehicle_Code              0\n",
       "Sale_Price                0\n",
       "dtype: int64"
      ]
     },
     "execution_count": 6,
     "metadata": {},
     "output_type": "execute_result"
    }
   ],
   "source": [
    "#Return the column series with the respective of number of null values\n",
    "df.isnull().sum()"
   ]
  },
  {
   "cell_type": "code",
   "execution_count": 7,
   "id": "54f43745",
   "metadata": {},
   "outputs": [
    {
     "data": {
      "image/png": "[encoded data removed]",
      "text/plain": [
       "<Figure size 432x288 with 2 Axes>"
      ]
     },
     "metadata": {
      "needs_background": "light"
     },
     "output_type": "display_data"
    }
   ],
   "source": [
    "#Generate a heatmap to identify null values along a graph\n",
    "sns.heatmap(df.isnull(),yticklabels=False,cbar=True,cmap='Accent')\n",
    "plt.savefig('/Users/gobinathsindhuja/Desktop/Prospa_assignment/supervised_learning_project/assets/img/DataCleanUp/null_values',dpi=None)"
   ]
  },
  {
   "cell_type": "code",
   "execution_count": 8,
   "id": "83d0276a",
   "metadata": {},
   "outputs": [],
   "source": [
    "#Define categorical variables in order to address them separately\n",
    "num_col=[\"Year_Group\",'Odometer','Power','Fuel_Urban',\"Vehicle_Code\"]\n",
    "cat_cols=['Make_Code','Family_Code','Region_Description']"
   ]
  },
  {
   "cell_type": "markdown",
   "id": "9bafc384",
   "metadata": {},
   "source": [
    "### 1.1 Iterative Imputation Method for Better Estimation"
   ]
  },
  {
   "cell_type": "code",
   "execution_count": 9,
   "id": "937bb0ea",
   "metadata": {},
   "outputs": [
    {
     "name": "stderr",
     "output_type": "stream",
     "text": [
      "100%|██████████| 3/3 [00:00<00:00, 26.08it/s]\n"
     ]
    }
   ],
   "source": [
    "check_imputer=df.copy()\n",
    "check_imputer=check_imputer.drop(columns=['Advertised_Date','Sold_Date'])\n",
    "\n",
    "#Object of LabelEncoder\n",
    "encoder=preprocessing.LabelEncoder()\n",
    "\n",
    "#Function to label the categorical columns ignoring null values \n",
    "def encode(data):\n",
    "    #Retains only non-null values\n",
    "    nonulls = np.array(data.dropna())\n",
    "    #Reshapes the data for encoding\n",
    "    impute_reshape = nonulls.reshape(-1,1)\n",
    "    #Encode date\n",
    "    impute_ordinal = encoder.fit_transform(impute_reshape)\n",
    "    #Assign back encoded values to non-null values\n",
    "    data.loc[data.notnull()] = np.squeeze(impute_ordinal)\n",
    "    return data\n",
    "\n",
    "#Loop to replace each column/categorical value with a numberical value\n",
    "for i in tqdm(range(len(cat_cols))):\n",
    "    encode(check_imputer[cat_cols[i]])"
   ]
  },
  {
   "cell_type": "code",
   "execution_count": 10,
   "id": "1ccd2920",
   "metadata": {},
   "outputs": [
    {
     "data": {
      "text/html": [
       "<div>\n",
       "<style scoped>\n",
       "    .dataframe tbody tr th:only-of-type {\n",
       "        vertical-align: middle;\n",
       "    }\n",
       "\n",
       "    .dataframe tbody tr th {\n",
       "        vertical-align: top;\n",
       "    }\n",
       "\n",
       "    .dataframe thead th {\n",
       "        text-align: right;\n",
       "    }\n",
       "</style>\n",
       "<table border=\"1\" class=\"dataframe\">\n",
       "  <thead>\n",
       "    <tr style=\"text-align: right;\">\n",
       "      <th></th>\n",
       "      <th>Odometer</th>\n",
       "      <th>Power</th>\n",
       "      <th>Fuel_Urban</th>\n",
       "      <th>Make_Code</th>\n",
       "      <th>Family_Code</th>\n",
       "      <th>Year_Group</th>\n",
       "      <th>Region_Description</th>\n",
       "      <th>Vehicle_Code</th>\n",
       "      <th>Sale_Price</th>\n",
       "    </tr>\n",
       "  </thead>\n",
       "  <tbody>\n",
       "    <tr>\n",
       "      <th>0</th>\n",
       "      <td>7756.0</td>\n",
       "      <td>213.0</td>\n",
       "      <td>13.5</td>\n",
       "      <td>29</td>\n",
       "      <td>239</td>\n",
       "      <td>2019</td>\n",
       "      <td>6</td>\n",
       "      <td>4126136366665310352</td>\n",
       "      <td>46935.54</td>\n",
       "    </tr>\n",
       "    <tr>\n",
       "      <th>1</th>\n",
       "      <td>2200.0</td>\n",
       "      <td>184.0</td>\n",
       "      <td>9.3</td>\n",
       "      <td>29</td>\n",
       "      <td>239</td>\n",
       "      <td>2019</td>\n",
       "      <td>6</td>\n",
       "      <td>4976226188052338111</td>\n",
       "      <td>60556.34</td>\n",
       "    </tr>\n",
       "    <tr>\n",
       "      <th>2</th>\n",
       "      <td>38674.0</td>\n",
       "      <td>184.0</td>\n",
       "      <td>9.3</td>\n",
       "      <td>29</td>\n",
       "      <td>239</td>\n",
       "      <td>2017</td>\n",
       "      <td>6</td>\n",
       "      <td>-5679626332524971677</td>\n",
       "      <td>39970.00</td>\n",
       "    </tr>\n",
       "    <tr>\n",
       "      <th>3</th>\n",
       "      <td>54627.0</td>\n",
       "      <td>200.0</td>\n",
       "      <td>13.9</td>\n",
       "      <td>29</td>\n",
       "      <td>117</td>\n",
       "      <td>2014</td>\n",
       "      <td>6</td>\n",
       "      <td>613567331764064986</td>\n",
       "      <td>19008.77</td>\n",
       "    </tr>\n",
       "    <tr>\n",
       "      <th>4</th>\n",
       "      <td>57984.0</td>\n",
       "      <td>184.0</td>\n",
       "      <td>9.3</td>\n",
       "      <td>29</td>\n",
       "      <td>239</td>\n",
       "      <td>2016</td>\n",
       "      <td>6</td>\n",
       "      <td>8983149599916055195</td>\n",
       "      <td>39545.45</td>\n",
       "    </tr>\n",
       "  </tbody>\n",
       "</table>\n",
       "</div>"
      ],
      "text/plain": [
       "   Odometer  Power  Fuel_Urban Make_Code Family_Code  Year_Group  \\\n",
       "0    7756.0  213.0        13.5        29         239        2019   \n",
       "1    2200.0  184.0         9.3        29         239        2019   \n",
       "2   38674.0  184.0         9.3        29         239        2017   \n",
       "3   54627.0  200.0        13.9        29         117        2014   \n",
       "4   57984.0  184.0         9.3        29         239        2016   \n",
       "\n",
       "  Region_Description         Vehicle_Code  Sale_Price  \n",
       "0                  6  4126136366665310352    46935.54  \n",
       "1                  6  4976226188052338111    60556.34  \n",
       "2                  6 -5679626332524971677    39970.00  \n",
       "3                  6   613567331764064986    19008.77  \n",
       "4                  6  8983149599916055195    39545.45  "
      ]
     },
     "execution_count": 10,
     "metadata": {},
     "output_type": "execute_result"
    }
   ],
   "source": [
    "check_imputer.head()"
   ]
  },
  {
   "cell_type": "code",
   "execution_count": 11,
   "id": "8ae9fe50",
   "metadata": {},
   "outputs": [],
   "source": [
    "#Estimate the score of the entire data set by filling in missing values based off of mean and median\n",
    "br_estimator = BayesianRidge() #Base estimator\n",
    "N_SPLITS = 6  #Defining the cross-validation splitting strategy\n",
    "\n",
    "score_simple_imputer = pd.DataFrame() #data frame to store error of imputer\n",
    "#Computing MSE for mean and median\n",
    "for strategy in ('mean', 'median'):\n",
    "    X=check_imputer.iloc[:,:-1]\n",
    "    y = np.ravel(check_imputer.iloc[:,-1:])\n",
    "    estimator = make_pipeline(\n",
    "        SimpleImputer(missing_values=np.nan, strategy=strategy),\n",
    "        br_estimator\n",
    "    )\n",
    "    score_simple_imputer[strategy] = cross_val_score(\n",
    "        estimator, X, y, scoring='neg_mean_squared_error',\n",
    "        cv=N_SPLITS\n",
    "    )"
   ]
  },
  {
   "cell_type": "code",
   "execution_count": 12,
   "id": "4e4eaa2f",
   "metadata": {},
   "outputs": [
    {
     "name": "stdout",
     "output_type": "stream",
     "text": [
      "Estimating BayesianRidge\n",
      "Estimating DecisionTreeRegressor\n",
      "Estimating ExtraTreesRegressor\n",
      "Estimating KNeighborsRegressor\n"
     ]
    }
   ],
   "source": [
    "#Fill in missing values using 4 different iterative imputations\n",
    "\n",
    "#Estimators for IterativeImputer\n",
    "estimators = [\n",
    "    BayesianRidge(),\n",
    "    DecisionTreeRegressor(max_features='sqrt', random_state=0),\n",
    "    ExtraTreesRegressor(n_estimators=10, random_state=0),\n",
    "    KNeighborsRegressor(n_neighbors=15)\n",
    "]\n",
    "score_iterative_imputer = pd.DataFrame()\n",
    "for esti in estimators:\n",
    "        print(\"Estimating\",esti.__class__.__name__)\n",
    "        imputer = IterativeImputer(esti)\n",
    "        df_new=check_imputer.copy()\n",
    "        for col in check_imputer.columns:\n",
    "            impute_data=imputer.fit_transform(df_new[col].values.reshape(-1,1))\n",
    "            impute_data=impute_data.astype('int64')\n",
    "            impute_data = pd.DataFrame(np.ravel(impute_data))\n",
    "            df_new[col]=impute_data\n",
    "        X=df_new.iloc[:,:-1]\n",
    "        y = np.ravel(df_new.iloc[:,-1:])\n",
    "        score_iterative_imputer[esti.__class__.__name__] = cross_val_score(esti,X,y,scoring='neg_mean_squared_error',cv=6)"
   ]
  },
  {
   "cell_type": "code",
   "execution_count": 13,
   "id": "cac597c9",
   "metadata": {},
   "outputs": [
    {
     "data": {
      "image/png": "[encoded data removed]",
      "text/plain": [
       "<Figure size 864x432 with 1 Axes>"
      ]
     },
     "metadata": {
      "needs_background": "light"
     },
     "output_type": "display_data"
    }
   ],
   "source": [
    "#Plot overall scores for each method\n",
    "scores = pd.concat(\n",
    "    [score_simple_imputer, score_iterative_imputer],\n",
    "    keys=['SimpleImputer', 'IterativeImputer'], axis=1\n",
    ")\n",
    "fig, ax = plt.subplots(figsize=(12, 6))\n",
    "means = -scores.mean()\n",
    "errors = scores.std()\n",
    "means.plot.barh(xerr=errors, ax=ax)\n",
    "ax.set_title('MSE with Different Imputation Methods')\n",
    "ax.set_xlabel('MSE (smaller value is better)')\n",
    "ax.set_yticks(np.arange(means.shape[0]))\n",
    "ax.set_yticklabels(means.index.tolist())\n",
    "plt.tight_layout(pad=1)\n",
    "plt.savefig('/Users/gobinathsindhuja/Desktop/Prospa_assignment/supervised_learning_project/assets/img/DataCleanUp/different-imputations-method',dpi=None)\n",
    "plt.show()"
   ]
  },
  {
   "cell_type": "markdown",
   "id": "caad7215",
   "metadata": {},
   "source": [
    "### 1.2 Fill Missing Numerical Values "
   ]
  },
  {
   "cell_type": "code",
   "execution_count": 14,
   "id": "5c46f42a",
   "metadata": {},
   "outputs": [
    {
     "data": {
      "text/plain": [
       "Year_Group          0\n",
       "Odometer           32\n",
       "Power              79\n",
       "Fuel_Urban      13806\n",
       "Vehicle_Code        0\n",
       "dtype: int64"
      ]
     },
     "execution_count": 14,
     "metadata": {},
     "output_type": "execute_result"
    }
   ],
   "source": [
    "df.isnull().sum()[num_col]"
   ]
  },
  {
   "cell_type": "code",
   "execution_count": 15,
   "id": "b383a820",
   "metadata": {},
   "outputs": [],
   "source": [
    "data_num=df[num_col]\n",
    "imputer_num=IterativeImputer(estimators[2])\n",
    "impute_data=imputer_num.fit_transform(data_num)\n",
    "df[num_col]=impute_data"
   ]
  },
  {
   "cell_type": "code",
   "execution_count": 16,
   "id": "e138b075",
   "metadata": {},
   "outputs": [
    {
     "data": {
      "text/plain": [
       "Year_Group      0\n",
       "Odometer        0\n",
       "Power           0\n",
       "Fuel_Urban      0\n",
       "Vehicle_Code    0\n",
       "dtype: int64"
      ]
     },
     "execution_count": 16,
     "metadata": {},
     "output_type": "execute_result"
    }
   ],
   "source": [
    "#Missing values after filling\n",
    "df.isnull().sum()[num_col]"
   ]
  },
  {
   "cell_type": "markdown",
   "id": "c0dfdfe3",
   "metadata": {},
   "source": [
    "### 1.3. Fill Missing Categorical Values"
   ]
  },
  {
   "cell_type": "code",
   "execution_count": 17,
   "id": "3451bfe0",
   "metadata": {},
   "outputs": [
    {
     "data": {
      "text/plain": [
       "Make_Code             0\n",
       "Family_Code           0\n",
       "Region_Description    0\n",
       "dtype: int64"
      ]
     },
     "execution_count": 17,
     "metadata": {},
     "output_type": "execute_result"
    }
   ],
   "source": [
    "#Missing values before filling\n",
    "df.isnull().sum()[cat_cols]"
   ]
  },
  {
   "cell_type": "code",
   "execution_count": 18,
   "id": "e569a449",
   "metadata": {},
   "outputs": [
    {
     "data": {
      "image/png": "[encoded data removed]",
      "text/plain": [
       "<Figure size 432x288 with 2 Axes>"
      ]
     },
     "metadata": {
      "needs_background": "light"
     },
     "output_type": "display_data"
    }
   ],
   "source": [
    "#Heat map to visually check null values\n",
    "sns.heatmap(df.isnull(),yticklabels=False,cbar=True,cmap='Accent')\n",
    "plt.savefig('/Users/gobinathsindhuja/Desktop/Prospa_assignment/supervised_learning_project/assets/img/DataCleanUp/no-null-values',dpi=None)"
   ]
  },
  {
   "cell_type": "code",
   "execution_count": 19,
   "id": "b7692214",
   "metadata": {},
   "outputs": [
    {
     "data": {
      "text/plain": [
       "Advertised_Date       0\n",
       "Sold_Date             0\n",
       "Odometer              0\n",
       "Power                 0\n",
       "Fuel_Urban            0\n",
       "Make_Code             0\n",
       "Family_Code           0\n",
       "Year_Group            0\n",
       "Region_Description    0\n",
       "Vehicle_Code          0\n",
       "Sale_Price            0\n",
       "dtype: int64"
      ]
     },
     "execution_count": 19,
     "metadata": {},
     "output_type": "execute_result"
    }
   ],
   "source": [
    "#List method to show no null values in the dataset \n",
    "df.isnull().sum()"
   ]
  },
  {
   "cell_type": "markdown",
   "id": "8178fd28",
   "metadata": {},
   "source": [
    "### 2. Address Outliers"
   ]
  },
  {
   "cell_type": "code",
   "execution_count": 20,
   "id": "72bcda1d",
   "metadata": {},
   "outputs": [],
   "source": [
    "from IPython.display import display,Latex\n",
    "outliers_condi=Latex(r\" $\\textbf{Thus $𝑥_1$ or $x_2$ are outliers if }\\\\ x_1 < Q1 - 1.5*IQR \\\\ or\\\\ x_2 > Q3+1.5*IQR $\")\n",
    "outliers_info=Latex(r\"$L_{p} = \\frac{p}{100}(n+1) = i_p.f_p \\\\ where \\,\\, i_p \\,\\, is \\,\\, integer \\,\\, part \\,\\, of \\,\\, L_p \\,\\, and \\,\\, f_p \\,\\, is \\,\\, fractional \\,\\, part \\,\\, of \\,\\, L_p \\\\ Q1 = Y_{25} = x_{i_p} + f_p*(x_{i_{p+1}}-x_{i_p}) \\\\ Q3 = Y_{75} = x_{i_p} + f_p*(x_{i_{p+1}}-x_{i_p}) \\\\ IQR = Q3-Q1 \\\\ x_1 = Q1 - 1.5*IQR \\,\\,and\\,\\, x_2 = Q3+1.5*IQR $\")"
   ]
  },
  {
   "cell_type": "code",
   "execution_count": 21,
   "id": "acd02754",
   "metadata": {},
   "outputs": [
    {
     "data": {
      "text/latex": [
       "$L_{p} = \\frac{p}{100}(n+1) = i_p.f_p \\\\ where \\,\\, i_p \\,\\, is \\,\\, integer \\,\\, part \\,\\, of \\,\\, L_p \\,\\, and \\,\\, f_p \\,\\, is \\,\\, fractional \\,\\, part \\,\\, of \\,\\, L_p \\\\ Q1 = Y_{25} = x_{i_p} + f_p*(x_{i_{p+1}}-x_{i_p}) \\\\ Q3 = Y_{75} = x_{i_p} + f_p*(x_{i_{p+1}}-x_{i_p}) \\\\ IQR = Q3-Q1 \\\\ x_1 = Q1 - 1.5*IQR \\,\\,and\\,\\, x_2 = Q3+1.5*IQR $"
      ],
      "text/plain": [
       "<IPython.core.display.Latex object>"
      ]
     },
     "metadata": {},
     "output_type": "display_data"
    },
    {
     "data": {
      "text/latex": [
       " $\\textbf{Thus $𝑥_1$ or $x_2$ are outliers if }\\\\ x_1 < Q1 - 1.5*IQR \\\\ or\\\\ x_2 > Q3+1.5*IQR $"
      ],
      "text/plain": [
       "<IPython.core.display.Latex object>"
      ]
     },
     "metadata": {},
     "output_type": "display_data"
    }
   ],
   "source": [
    "display(outliers_info)\n",
    "display(outliers_condi)"
   ]
  },
  {
   "cell_type": "code",
   "execution_count": 22,
   "id": "b87b40ab",
   "metadata": {},
   "outputs": [],
   "source": [
    "#Return the range of variables and values outside of this range, ie. outliers\n",
    "def outliers(arr,col):\n",
    "    x=sorted(arr[col].values.ravel())\n",
    "    L_25=25/100*(len(x)+1) #L_p where p=25%\n",
    "    i_p=int(str(L_25).split(\".\")[0])\n",
    "    f_p=int(str(L_25).split(\".\")[1])\n",
    "    q1=x[i_p]+f_p*(x[i_p+1]-x[i_p])\n",
    "    \n",
    "    L_75=75/100*(len(x)+1) #L_p where p=75%\n",
    "    i_p=int(str(L_75).split(\".\")[0])\n",
    "    f_p=int(str(L_75).split(\".\")[1])\n",
    "    q3=x[i_p]+f_p*(x[i_p+1]-x[i_p])\n",
    "    \n",
    "    #q1,q3=(arr[col].quantile([0.25,0.75]))\n",
    "    \n",
    "    IQR=q3-q1\n",
    "    x1=q1-1.5*IQR\n",
    "    x2=q3+1.5*IQR\n",
    "    return (x1,x2)"
   ]
  },
  {
   "cell_type": "markdown",
   "id": "e913d90d",
   "metadata": {},
   "source": [
    "### 2.1. Price"
   ]
  },
  {
   "cell_type": "code",
   "execution_count": 23,
   "id": "bae70d21",
   "metadata": {},
   "outputs": [
    {
     "data": {
      "image/png": "[encoded data removed]",
      "text/plain": [
       "<Figure size 432x288 with 1 Axes>"
      ]
     },
     "metadata": {
      "needs_background": "light"
     },
     "output_type": "display_data"
    }
   ],
   "source": [
    "def min_max_price(df):\n",
    "    r=[]\n",
    "    q1,q3=(df['logprice'].quantile([0.25,0.75]))\n",
    "    r.append(q1-1.5*(q3-q1))\n",
    "    r.append(q3+1.5*(q3-q1))\n",
    "    return (r)\n",
    "df['logprice'] = np.log(df['Sale_Price'])\n",
    "x=df['logprice']\n",
    "price_range=list(range(0,int(max(df['logprice']))+1))\n",
    "red_square = dict(markerfacecolor='g', marker='s')\n",
    "plt.boxplot(x, vert=False)\n",
    "plt.xticks(price_range)\n",
    "plt.text(min_max_price(df)[0]-0.3,1.05,str(round(min_max_price(df)[0],2)))\n",
    "plt.text(min_max_price(df)[1]-0.5,1.05,str(round(min_max_price(df)[1],2)))\n",
    "plt.title(\"Box Plot of 'Sale_Price' Variable\")\n",
    "plt.savefig('/Users/gobinathsindhuja/Desktop/Prospa_assignment/supervised_learning_project/assets/img/DataCleanUp/graph-boxplot-price.jpg')\n",
    "plt.show()"
   ]
  },
  {
   "cell_type": "markdown",
   "id": "56653dfa",
   "metadata": {},
   "source": [
    "### 2.2. Odometer"
   ]
  },
  {
   "cell_type": "code",
   "execution_count": 24,
   "id": "d50a893d",
   "metadata": {},
   "outputs": [
    {
     "data": {
      "image/png": "[encoded data removed]",
      "text/plain": [
       "<Figure size 432x288 with 1 Axes>"
      ]
     },
     "metadata": {
      "needs_background": "light"
     },
     "output_type": "display_data"
    }
   ],
   "source": [
    "fig, ax1 = plt.subplots()\n",
    "ax1.set_title(\"Box Plot of 'Odometer' Variable\")\n",
    "ax1.boxplot(df['Odometer'], vert=False, flierprops=red_square)\n",
    "plt.savefig('/Users/gobinathsindhuja/Desktop/Prospa_assignment/supervised_learning_project/assets/img/DataCleanUp/graph-boxplot-odometer.jpg')\n",
    "plt.show()"
   ]
  },
  {
   "cell_type": "markdown",
   "id": "421af948",
   "metadata": {},
   "source": [
    "### 2.3. Year"
   ]
  },
  {
   "cell_type": "code",
   "execution_count": 25,
   "id": "68993332",
   "metadata": {},
   "outputs": [
    {
     "data": {
      "image/png": "[encoded data removed]",
      "text/plain": [
       "<Figure size 864x360 with 2 Axes>"
      ]
     },
     "metadata": {
      "needs_background": "light"
     },
     "output_type": "display_data"
    }
   ],
   "source": [
    "fig,(ax1,ax2)=plt.subplots(ncols=2,figsize=(12,5))\n",
    "\n",
    "#Plot boxplot\n",
    "o1,o2=outliers(df,'Year_Group')\n",
    "ax1.boxplot(sorted(df['Year_Group']), vert=False, flierprops=red_square)\n",
    "ax1.set_xlabel(\"Years\")\n",
    "ax1.set_title(\"Box Plot of 'Year' Variable\")\n",
    "ax1.text(o1-8,1.05,str(round(o1,2)))\n",
    "\n",
    "#Plot histogram\n",
    "hist,bins=np.histogram(df['Year_Group'])\n",
    "n, bins, patches = ax2.hist(x=df['Year_Group'], bins=bins)\n",
    "ax2.set_xlabel(\"Years\")\n",
    "ax2.set_title(\"Histogram of 'Year'\")\n",
    "for i in range(len(n)):\n",
    "    if(n[i]>2000):\n",
    "        ax2.text(bins[i],n[i]+3000,str(n[i]))\n",
    "\n",
    "plt.tight_layout()\n",
    "plt.savefig('/Users/gobinathsindhuja/Desktop/Prospa_assignment/supervised_learning_project/assets/img/DataCleanUp/graph-boxplot-histogram-year.jpg',dpi=1200)\n",
    "plt.show()"
   ]
  },
  {
   "cell_type": "markdown",
   "id": "071ead86",
   "metadata": {},
   "source": [
    "### 2.4. Power"
   ]
  },
  {
   "cell_type": "code",
   "execution_count": 26,
   "id": "e662288e",
   "metadata": {},
   "outputs": [
    {
     "data": {
      "image/png": "[encoded data removed]",
      "text/plain": [
       "<Figure size 432x288 with 1 Axes>"
      ]
     },
     "metadata": {
      "needs_background": "light"
     },
     "output_type": "display_data"
    }
   ],
   "source": [
    "fig, ax1 = plt.subplots()\n",
    "ax1.set_title(\"Box Plot of 'power' Variable\")\n",
    "ax1.boxplot(df['Power'], vert=False, flierprops=red_square)\n",
    "plt.savefig('/Users/gobinathsindhuja/Desktop/Prospa_assignment/supervised_learning_project/assets/img/DataCleanUp/graph-boxplot-power.jpg')\n",
    "plt.show()"
   ]
  },
  {
   "cell_type": "markdown",
   "id": "33210423",
   "metadata": {},
   "source": [
    "### 2.5. Fuel_Urban"
   ]
  },
  {
   "cell_type": "code",
   "execution_count": 27,
   "id": "46fb6be5",
   "metadata": {},
   "outputs": [
    {
     "data": {
      "image/png": "[encoded data removed]",
      "text/plain": [
       "<Figure size 432x288 with 1 Axes>"
      ]
     },
     "metadata": {
      "needs_background": "light"
     },
     "output_type": "display_data"
    }
   ],
   "source": [
    "fig, ax1 = plt.subplots()\n",
    "ax1.set_title(\"Box Plot of 'Fuel_Urban' Variable\")\n",
    "ax1.boxplot(df['Fuel_Urban'], vert=False, flierprops=red_square)\n",
    "plt.savefig('/Users/gobinathsindhuja/Desktop/Prospa_assignment/supervised_learning_project/assets/img/DataCleanUp/graph-boxplot-Fuel_Urban.jpg')\n",
    "plt.show()"
   ]
  },
  {
   "cell_type": "code",
   "execution_count": 28,
   "id": "235924a9",
   "metadata": {},
   "outputs": [
    {
     "name": "stdout",
     "output_type": "stream",
     "text": [
      "IQR of logprice = 8.267839610057813 11.58091457458265\n",
      "IQR of Odometer = -71360.5 221075.5\n",
      "IQR of Year_Group = 2007.0 2023.0\n",
      "IQR of Power = 54.5 202.5\n",
      "IQR of Fuel_Urban = 4.500000000000001 14.899999999999999\n"
     ]
    }
   ],
   "source": [
    "#Remove outliers \n",
    "df_new=df.copy()\n",
    "out=np.array(['logprice','Odometer','Year_Group','Power','Fuel_Urban'])\n",
    "for col in out:\n",
    "    o1,o2=outliers(df_new,col)\n",
    "    df_new=df_new[(df_new[col]>=o1) & (df_new[col]<=o2)]\n",
    "    print('IQR of',col,'=',o1,o2)\n",
    "df_new=df_new[df_new['Sale_Price']!=0]\n",
    "df_new.drop('logprice',axis=1,inplace=True)"
   ]
  },
  {
   "cell_type": "code",
   "execution_count": 29,
   "id": "f4127cdd",
   "metadata": {},
   "outputs": [
    {
     "data": {
      "text/html": [
       "<div>\n",
       "<style scoped>\n",
       "    .dataframe tbody tr th:only-of-type {\n",
       "        vertical-align: middle;\n",
       "    }\n",
       "\n",
       "    .dataframe tbody tr th {\n",
       "        vertical-align: top;\n",
       "    }\n",
       "\n",
       "    .dataframe thead th {\n",
       "        text-align: right;\n",
       "    }\n",
       "</style>\n",
       "<table border=\"1\" class=\"dataframe\">\n",
       "  <thead>\n",
       "    <tr style=\"text-align: right;\">\n",
       "      <th></th>\n",
       "      <th>Advertised_Date</th>\n",
       "      <th>Sold_Date</th>\n",
       "      <th>Odometer</th>\n",
       "      <th>Power</th>\n",
       "      <th>Fuel_Urban</th>\n",
       "      <th>Make_Code</th>\n",
       "      <th>Family_Code</th>\n",
       "      <th>Year_Group</th>\n",
       "      <th>Region_Description</th>\n",
       "      <th>Vehicle_Code</th>\n",
       "      <th>Sale_Price</th>\n",
       "    </tr>\n",
       "  </thead>\n",
       "  <tbody>\n",
       "    <tr>\n",
       "      <th>1</th>\n",
       "      <td>2019-11-21 00:00:00</td>\n",
       "      <td>2020-01-13</td>\n",
       "      <td>2200.0</td>\n",
       "      <td>184.0</td>\n",
       "      <td>9.3</td>\n",
       "      <td>JEEP</td>\n",
       "      <td>GRAND</td>\n",
       "      <td>2019.0</td>\n",
       "      <td>WA</td>\n",
       "      <td>4.976226e+18</td>\n",
       "      <td>60556.34</td>\n",
       "    </tr>\n",
       "    <tr>\n",
       "      <th>2</th>\n",
       "      <td>2019-08-21 00:00:00</td>\n",
       "      <td>2019-10-15</td>\n",
       "      <td>38674.0</td>\n",
       "      <td>184.0</td>\n",
       "      <td>9.3</td>\n",
       "      <td>JEEP</td>\n",
       "      <td>GRAND</td>\n",
       "      <td>2017.0</td>\n",
       "      <td>WA</td>\n",
       "      <td>-5.679626e+18</td>\n",
       "      <td>39970.00</td>\n",
       "    </tr>\n",
       "    <tr>\n",
       "      <th>3</th>\n",
       "      <td>2019-10-04 00:00:00</td>\n",
       "      <td>2019-11-12</td>\n",
       "      <td>54627.0</td>\n",
       "      <td>200.0</td>\n",
       "      <td>13.9</td>\n",
       "      <td>JEEP</td>\n",
       "      <td>CHEROKE</td>\n",
       "      <td>2014.0</td>\n",
       "      <td>WA</td>\n",
       "      <td>6.135673e+17</td>\n",
       "      <td>19008.77</td>\n",
       "    </tr>\n",
       "    <tr>\n",
       "      <th>4</th>\n",
       "      <td>2019-04-08 00:00:00</td>\n",
       "      <td>2019-07-16</td>\n",
       "      <td>57984.0</td>\n",
       "      <td>184.0</td>\n",
       "      <td>9.3</td>\n",
       "      <td>JEEP</td>\n",
       "      <td>GRAND</td>\n",
       "      <td>2016.0</td>\n",
       "      <td>WA</td>\n",
       "      <td>8.983150e+18</td>\n",
       "      <td>39545.45</td>\n",
       "    </tr>\n",
       "    <tr>\n",
       "      <th>5</th>\n",
       "      <td>2019-11-13 00:00:00</td>\n",
       "      <td>2019-11-26</td>\n",
       "      <td>88793.0</td>\n",
       "      <td>125.0</td>\n",
       "      <td>9.4</td>\n",
       "      <td>FORD</td>\n",
       "      <td>FOCUS</td>\n",
       "      <td>2014.0</td>\n",
       "      <td>WA</td>\n",
       "      <td>3.705427e+18</td>\n",
       "      <td>8181.82</td>\n",
       "    </tr>\n",
       "  </tbody>\n",
       "</table>\n",
       "</div>"
      ],
      "text/plain": [
       "       Advertised_Date   Sold_Date  Odometer  Power  Fuel_Urban Make_Code  \\\n",
       "1  2019-11-21 00:00:00  2020-01-13    2200.0  184.0         9.3      JEEP   \n",
       "2  2019-08-21 00:00:00  2019-10-15   38674.0  184.0         9.3      JEEP   \n",
       "3  2019-10-04 00:00:00  2019-11-12   54627.0  200.0        13.9      JEEP   \n",
       "4  2019-04-08 00:00:00  2019-07-16   57984.0  184.0         9.3      JEEP   \n",
       "5  2019-11-13 00:00:00  2019-11-26   88793.0  125.0         9.4      FORD   \n",
       "\n",
       "  Family_Code  Year_Group Region_Description  Vehicle_Code  Sale_Price  \n",
       "1       GRAND      2019.0                 WA  4.976226e+18    60556.34  \n",
       "2       GRAND      2017.0                 WA -5.679626e+18    39970.00  \n",
       "3     CHEROKE      2014.0                 WA  6.135673e+17    19008.77  \n",
       "4       GRAND      2016.0                 WA  8.983150e+18    39545.45  \n",
       "5       FOCUS      2014.0                 WA  3.705427e+18     8181.82  "
      ]
     },
     "execution_count": 29,
     "metadata": {},
     "output_type": "execute_result"
    }
   ],
   "source": [
    "df_new.head()"
   ]
  },
  {
   "cell_type": "code",
   "execution_count": 30,
   "id": "39ec4d81",
   "metadata": {},
   "outputs": [
    {
     "data": {
      "text/plain": [
       "(101812, 11)"
      ]
     },
     "execution_count": 30,
     "metadata": {},
     "output_type": "execute_result"
    }
   ],
   "source": [
    "df_new.shape"
   ]
  },
  {
   "cell_type": "code",
   "execution_count": 31,
   "id": "b21c7097",
   "metadata": {},
   "outputs": [
    {
     "name": "stdout",
     "output_type": "stream",
     "text": [
      "Shape before process= (122595, 12)\n",
      "Shape After process= (101812, 11)\n",
      "Total 20783 rows and 1 cols removed\n"
     ]
    }
   ],
   "source": [
    "print(\"Shape before process=\",df.shape)\n",
    "print(\"Shape After process=\",df_new.shape)\n",
    "diff=df.shape[0]-df_new.shape[0]\n",
    "print(\"Total {} rows and {} cols removed\".format(diff,df.shape[1]-df_new.shape[1]))\n",
    "df_new.to_csv('/Users/gobinathsindhuja/Desktop/Prospa_assignment/supervised_learning_project/data/vehiclesFinal.csv',index=False)"
   ]
  },
  {
   "cell_type": "code",
   "execution_count": null,
   "id": "42477dce",
   "metadata": {},
   "outputs": [],
   "source": []
  }
 ],
 "metadata": {
  "kernelspec": {
   "display_name": "Python 3 (ipykernel)",
   "language": "python",
   "name": "python3"
  },
  "language_info": {
   "codemirror_mode": {
    "name": "ipython",
    "version": 3
   },
   "file_extension": ".py",
   "mimetype": "text/x-python",
   "name": "python",
   "nbconvert_exporter": "python",
   "pygments_lexer": "ipython3",
   "version": "3.10.4"
  }
 },
 "nbformat": 4,
 "nbformat_minor": 5
}
