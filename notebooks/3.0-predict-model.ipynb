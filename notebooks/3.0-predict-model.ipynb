{
 "cells": [
  {
   "cell_type": "markdown",
   "id": "15274921",
   "metadata": {},
   "source": [
    "## Libraries"
   ]
  },
  {
   "cell_type": "code",
   "execution_count": 1,
   "id": "353521b1",
   "metadata": {},
   "outputs": [],
   "source": [
    "import pandas as pd\n",
    "import numpy as np\n",
    "import time\n",
    "import matplotlib\n",
    "import matplotlib.pyplot as plt\n",
    "\n",
    "#Libraries for Data Clean Up\n",
    "from sklearn import preprocessing\n",
    "from sklearn.preprocessing import StandardScaler\n",
    "from sklearn.preprocessing import MinMaxScaler\n",
    "\n",
    "#Libraries for Data Visualization\n",
    "from sklearn.metrics import mean_squared_log_error,r2_score,mean_squared_error\n",
    "from sklearn.model_selection import train_test_split\n",
    "\n",
    "#Libraries for Machine Learning Models\n",
    "from sklearn.linear_model import LinearRegression\n",
    "from sklearn.linear_model import Ridge\n",
    "from sklearn.linear_model import LassoCV,RidgeCV\n",
    "from yellowbrick.regressor import AlphaSelection\n",
    "from sklearn.linear_model import Lasso\n",
    "from sklearn.neighbors import KNeighborsRegressor\n",
    "from sklearn.ensemble import RandomForestRegressor\n",
    "from sklearn.ensemble import BaggingRegressor\n",
    "from sklearn.tree import DecisionTreeRegressor\n",
    "from sklearn.ensemble import AdaBoostRegressor\n",
    "import xgboost as xgb\n",
    "\n",
    "import warnings\n",
    "warnings.filterwarnings('ignore')"
   ]
  },
  {
   "cell_type": "code",
   "execution_count": 2,
   "id": "857e41a4",
   "metadata": {},
   "outputs": [
    {
     "data": {
      "text/html": [
       "<div>\n",
       "<style scoped>\n",
       "    .dataframe tbody tr th:only-of-type {\n",
       "        vertical-align: middle;\n",
       "    }\n",
       "\n",
       "    .dataframe tbody tr th {\n",
       "        vertical-align: top;\n",
       "    }\n",
       "\n",
       "    .dataframe thead th {\n",
       "        text-align: right;\n",
       "    }\n",
       "</style>\n",
       "<table border=\"1\" class=\"dataframe\">\n",
       "  <thead>\n",
       "    <tr style=\"text-align: right;\">\n",
       "      <th></th>\n",
       "      <th>Odometer</th>\n",
       "      <th>Power</th>\n",
       "      <th>Fuel_Urban</th>\n",
       "      <th>Make_Code</th>\n",
       "      <th>Family_Code</th>\n",
       "      <th>Year_Group</th>\n",
       "      <th>Region_Description</th>\n",
       "      <th>Sale_Price</th>\n",
       "    </tr>\n",
       "  </thead>\n",
       "  <tbody>\n",
       "    <tr>\n",
       "      <th>0</th>\n",
       "      <td>2200.0</td>\n",
       "      <td>184.0</td>\n",
       "      <td>9.3</td>\n",
       "      <td>JEEP</td>\n",
       "      <td>GRAND</td>\n",
       "      <td>2019.0</td>\n",
       "      <td>WA</td>\n",
       "      <td>60556.34</td>\n",
       "    </tr>\n",
       "    <tr>\n",
       "      <th>1</th>\n",
       "      <td>38674.0</td>\n",
       "      <td>184.0</td>\n",
       "      <td>9.3</td>\n",
       "      <td>JEEP</td>\n",
       "      <td>GRAND</td>\n",
       "      <td>2017.0</td>\n",
       "      <td>WA</td>\n",
       "      <td>39970.00</td>\n",
       "    </tr>\n",
       "    <tr>\n",
       "      <th>2</th>\n",
       "      <td>54627.0</td>\n",
       "      <td>200.0</td>\n",
       "      <td>13.9</td>\n",
       "      <td>JEEP</td>\n",
       "      <td>CHEROKE</td>\n",
       "      <td>2014.0</td>\n",
       "      <td>WA</td>\n",
       "      <td>19008.77</td>\n",
       "    </tr>\n",
       "    <tr>\n",
       "      <th>3</th>\n",
       "      <td>57984.0</td>\n",
       "      <td>184.0</td>\n",
       "      <td>9.3</td>\n",
       "      <td>JEEP</td>\n",
       "      <td>GRAND</td>\n",
       "      <td>2016.0</td>\n",
       "      <td>WA</td>\n",
       "      <td>39545.45</td>\n",
       "    </tr>\n",
       "    <tr>\n",
       "      <th>4</th>\n",
       "      <td>88793.0</td>\n",
       "      <td>125.0</td>\n",
       "      <td>9.4</td>\n",
       "      <td>FORD</td>\n",
       "      <td>FOCUS</td>\n",
       "      <td>2014.0</td>\n",
       "      <td>WA</td>\n",
       "      <td>8181.82</td>\n",
       "    </tr>\n",
       "  </tbody>\n",
       "</table>\n",
       "</div>"
      ],
      "text/plain": [
       "   Odometer  Power  Fuel_Urban Make_Code Family_Code  Year_Group  \\\n",
       "0    2200.0  184.0         9.3      JEEP       GRAND      2019.0   \n",
       "1   38674.0  184.0         9.3      JEEP       GRAND      2017.0   \n",
       "2   54627.0  200.0        13.9      JEEP     CHEROKE      2014.0   \n",
       "3   57984.0  184.0         9.3      JEEP       GRAND      2016.0   \n",
       "4   88793.0  125.0         9.4      FORD       FOCUS      2014.0   \n",
       "\n",
       "  Region_Description  Sale_Price  \n",
       "0                 WA    60556.34  \n",
       "1                 WA    39970.00  \n",
       "2                 WA    19008.77  \n",
       "3                 WA    39545.45  \n",
       "4                 WA     8181.82  "
      ]
     },
     "execution_count": 2,
     "metadata": {},
     "output_type": "execute_result"
    }
   ],
   "source": [
    "#Load DataFrame\n",
    "df = pd.read_csv('/Users/gobinathsindhuja/Desktop/Prospa_assignment/supervised_learning_project/data/vehiclesFinal.csv')\n",
    "df = df.drop(['Advertised_Date',\"Sold_Date\",\"Vehicle_Code\"],axis=1)#remove non useful features for model\n",
    "df2 = df.copy()\n",
    "df.head()"
   ]
  },
  {
   "cell_type": "code",
   "execution_count": 3,
   "id": "4157002e",
   "metadata": {},
   "outputs": [],
   "source": [
    "#Define numerical and categorical values\n",
    "num_cols = ['Year_Group','Odometer','Power','Fuel_Urban']\n",
    "cat_cols = ['Make_Code','Family_Code','Region_Description']"
   ]
  },
  {
   "cell_type": "markdown",
   "id": "169e156c",
   "metadata": {},
   "source": [
    "## 1. Transform Categorical Column Values into Integer Values"
   ]
  },
  {
   "cell_type": "code",
   "execution_count": 4,
   "id": "3e097a64",
   "metadata": {},
   "outputs": [],
   "source": [
    "le = preprocessing.LabelEncoder()\n",
    "df[cat_cols] = df[cat_cols].apply(le.fit_transform)"
   ]
  },
  {
   "cell_type": "code",
   "execution_count": 5,
   "id": "ce2fbf37",
   "metadata": {},
   "outputs": [
    {
     "data": {
      "text/html": [
       "<div>\n",
       "<style scoped>\n",
       "    .dataframe tbody tr th:only-of-type {\n",
       "        vertical-align: middle;\n",
       "    }\n",
       "\n",
       "    .dataframe tbody tr th {\n",
       "        vertical-align: top;\n",
       "    }\n",
       "\n",
       "    .dataframe thead th {\n",
       "        text-align: right;\n",
       "    }\n",
       "</style>\n",
       "<table border=\"1\" class=\"dataframe\">\n",
       "  <thead>\n",
       "    <tr style=\"text-align: right;\">\n",
       "      <th></th>\n",
       "      <th>Odometer</th>\n",
       "      <th>Power</th>\n",
       "      <th>Fuel_Urban</th>\n",
       "      <th>Make_Code</th>\n",
       "      <th>Family_Code</th>\n",
       "      <th>Year_Group</th>\n",
       "      <th>Region_Description</th>\n",
       "      <th>Sale_Price</th>\n",
       "    </tr>\n",
       "  </thead>\n",
       "  <tbody>\n",
       "    <tr>\n",
       "      <th>0</th>\n",
       "      <td>2200.0</td>\n",
       "      <td>184.0</td>\n",
       "      <td>9.3</td>\n",
       "      <td>20</td>\n",
       "      <td>176</td>\n",
       "      <td>2019.0</td>\n",
       "      <td>6</td>\n",
       "      <td>60556.34</td>\n",
       "    </tr>\n",
       "    <tr>\n",
       "      <th>1</th>\n",
       "      <td>38674.0</td>\n",
       "      <td>184.0</td>\n",
       "      <td>9.3</td>\n",
       "      <td>20</td>\n",
       "      <td>176</td>\n",
       "      <td>2017.0</td>\n",
       "      <td>6</td>\n",
       "      <td>39970.00</td>\n",
       "    </tr>\n",
       "    <tr>\n",
       "      <th>2</th>\n",
       "      <td>54627.0</td>\n",
       "      <td>200.0</td>\n",
       "      <td>13.9</td>\n",
       "      <td>20</td>\n",
       "      <td>88</td>\n",
       "      <td>2014.0</td>\n",
       "      <td>6</td>\n",
       "      <td>19008.77</td>\n",
       "    </tr>\n",
       "    <tr>\n",
       "      <th>3</th>\n",
       "      <td>57984.0</td>\n",
       "      <td>184.0</td>\n",
       "      <td>9.3</td>\n",
       "      <td>20</td>\n",
       "      <td>176</td>\n",
       "      <td>2016.0</td>\n",
       "      <td>6</td>\n",
       "      <td>39545.45</td>\n",
       "    </tr>\n",
       "    <tr>\n",
       "      <th>4</th>\n",
       "      <td>88793.0</td>\n",
       "      <td>125.0</td>\n",
       "      <td>9.4</td>\n",
       "      <td>9</td>\n",
       "      <td>156</td>\n",
       "      <td>2014.0</td>\n",
       "      <td>6</td>\n",
       "      <td>8181.82</td>\n",
       "    </tr>\n",
       "  </tbody>\n",
       "</table>\n",
       "</div>"
      ],
      "text/plain": [
       "   Odometer  Power  Fuel_Urban  Make_Code  Family_Code  Year_Group  \\\n",
       "0    2200.0  184.0         9.3         20          176      2019.0   \n",
       "1   38674.0  184.0         9.3         20          176      2017.0   \n",
       "2   54627.0  200.0        13.9         20           88      2014.0   \n",
       "3   57984.0  184.0         9.3         20          176      2016.0   \n",
       "4   88793.0  125.0         9.4          9          156      2014.0   \n",
       "\n",
       "   Region_Description  Sale_Price  \n",
       "0                   6    60556.34  \n",
       "1                   6    39970.00  \n",
       "2                   6    19008.77  \n",
       "3                   6    39545.45  \n",
       "4                   6     8181.82  "
      ]
     },
     "execution_count": 5,
     "metadata": {},
     "output_type": "execute_result"
    }
   ],
   "source": [
    "df.head()"
   ]
  },
  {
   "cell_type": "markdown",
   "id": "2e7c0f18",
   "metadata": {},
   "source": [
    "## 2. Scale the Data Set"
   ]
  },
  {
   "cell_type": "code",
   "execution_count": 6,
   "id": "22be45e1",
   "metadata": {},
   "outputs": [],
   "source": [
    "#Scale the numerical data\n",
    "norm = StandardScaler()\n",
    "df['Sale_Price'] = np.log(df['Sale_Price'])\n",
    "df['Odometer'] = norm.fit_transform(np.array(df['Odometer']).reshape(-1,1))\n",
    "df['Year_Group'] = norm.fit_transform(np.array(df['Year_Group']).reshape(-1,1))\n",
    "df['Power'] = norm.fit_transform(np.array(df['Power']).reshape(-1,1))\n",
    "df['Fuel_Urban'] = norm.fit_transform(np.array(df['Fuel_Urban']).reshape(-1,1))\n",
    "\n",
    "#Scaling target variable\n",
    "q1,q3 = (df['Sale_Price'].quantile([0.25,0.75]))\n",
    "o1 = q1-1.5*(q3-q1)\n",
    "o2 = q3+1.5*(q3-q1)\n",
    "df = df[(df.Sale_Price >= o1) & (df.Sale_Price <= o2)]"
   ]
  },
  {
   "cell_type": "code",
   "execution_count": 7,
   "id": "84f42faa",
   "metadata": {},
   "outputs": [
    {
     "data": {
      "text/html": [
       "<div>\n",
       "<style scoped>\n",
       "    .dataframe tbody tr th:only-of-type {\n",
       "        vertical-align: middle;\n",
       "    }\n",
       "\n",
       "    .dataframe tbody tr th {\n",
       "        vertical-align: top;\n",
       "    }\n",
       "\n",
       "    .dataframe thead th {\n",
       "        text-align: right;\n",
       "    }\n",
       "</style>\n",
       "<table border=\"1\" class=\"dataframe\">\n",
       "  <thead>\n",
       "    <tr style=\"text-align: right;\">\n",
       "      <th></th>\n",
       "      <th>Odometer</th>\n",
       "      <th>Power</th>\n",
       "      <th>Fuel_Urban</th>\n",
       "      <th>Make_Code</th>\n",
       "      <th>Family_Code</th>\n",
       "      <th>Year_Group</th>\n",
       "      <th>Region_Description</th>\n",
       "      <th>Sale_Price</th>\n",
       "    </tr>\n",
       "  </thead>\n",
       "  <tbody>\n",
       "    <tr>\n",
       "      <th>0</th>\n",
       "      <td>-1.490202</td>\n",
       "      <td>2.028217</td>\n",
       "      <td>-0.201511</td>\n",
       "      <td>20</td>\n",
       "      <td>176</td>\n",
       "      <td>1.319164</td>\n",
       "      <td>6</td>\n",
       "      <td>11.011329</td>\n",
       "    </tr>\n",
       "    <tr>\n",
       "      <th>1</th>\n",
       "      <td>-0.735511</td>\n",
       "      <td>2.028217</td>\n",
       "      <td>-0.201511</td>\n",
       "      <td>20</td>\n",
       "      <td>176</td>\n",
       "      <td>0.649816</td>\n",
       "      <td>6</td>\n",
       "      <td>10.595884</td>\n",
       "    </tr>\n",
       "    <tr>\n",
       "      <th>2</th>\n",
       "      <td>-0.405424</td>\n",
       "      <td>2.589700</td>\n",
       "      <td>2.263995</td>\n",
       "      <td>20</td>\n",
       "      <td>88</td>\n",
       "      <td>-0.354206</td>\n",
       "      <td>6</td>\n",
       "      <td>9.852656</td>\n",
       "    </tr>\n",
       "    <tr>\n",
       "      <th>3</th>\n",
       "      <td>-0.335963</td>\n",
       "      <td>2.028217</td>\n",
       "      <td>-0.201511</td>\n",
       "      <td>20</td>\n",
       "      <td>176</td>\n",
       "      <td>0.315142</td>\n",
       "      <td>6</td>\n",
       "      <td>10.585206</td>\n",
       "    </tr>\n",
       "    <tr>\n",
       "      <th>4</th>\n",
       "      <td>0.301512</td>\n",
       "      <td>-0.042251</td>\n",
       "      <td>-0.147913</td>\n",
       "      <td>9</td>\n",
       "      <td>156</td>\n",
       "      <td>-0.354206</td>\n",
       "      <td>6</td>\n",
       "      <td>9.009670</td>\n",
       "    </tr>\n",
       "  </tbody>\n",
       "</table>\n",
       "</div>"
      ],
      "text/plain": [
       "   Odometer     Power  Fuel_Urban  Make_Code  Family_Code  Year_Group  \\\n",
       "0 -1.490202  2.028217   -0.201511         20          176    1.319164   \n",
       "1 -0.735511  2.028217   -0.201511         20          176    0.649816   \n",
       "2 -0.405424  2.589700    2.263995         20           88   -0.354206   \n",
       "3 -0.335963  2.028217   -0.201511         20          176    0.315142   \n",
       "4  0.301512 -0.042251   -0.147913          9          156   -0.354206   \n",
       "\n",
       "   Region_Description  Sale_Price  \n",
       "0                   6   11.011329  \n",
       "1                   6   10.595884  \n",
       "2                   6    9.852656  \n",
       "3                   6   10.585206  \n",
       "4                   6    9.009670  "
      ]
     },
     "execution_count": 7,
     "metadata": {},
     "output_type": "execute_result"
    }
   ],
   "source": [
    "df.head()"
   ]
  },
  {
   "cell_type": "code",
   "execution_count": 8,
   "id": "dd5dbb85",
   "metadata": {},
   "outputs": [],
   "source": [
    "#Function to split data set into training and test\n",
    "def trainingData(df,n):\n",
    "    X = df.iloc[:,n]\n",
    "    y = df.iloc[:,-1:].values.T\n",
    "    y = y[0]\n",
    "    X_train,X_test,y_train,y_test = train_test_split(X,y,train_size = 0.9,test_size = 0.1,random_state = 0)\n",
    "    return (X_train,X_test,y_train,y_test)\n",
    "\n",
    "X_train,X_test,y_train,y_test = trainingData(df,list(range(len(list(df.columns))-1)))"
   ]
  },
  {
   "cell_type": "code",
   "execution_count": 9,
   "id": "71367e99",
   "metadata": {},
   "outputs": [],
   "source": [
    "#Some models will predict neg values so this function will remove those values\n",
    "def remove_neg(y_test,y_pred):\n",
    "    ind = [index for index in range(len(y_pred)) if(y_pred[index]>0)]\n",
    "    y_pred = y_pred[ind]\n",
    "    y_test = y_test[ind]\n",
    "    y_pred[y_pred<0]\n",
    "    return (y_test,y_pred)\n",
    "\n",
    "#Function for evaluation of model\n",
    "def result(y_test,y_pred):\n",
    "    r = []\n",
    "    r.append(mean_squared_log_error(y_test, y_pred))\n",
    "    r.append(np.sqrt(r[0]))\n",
    "    r.append(r2_score(y_test,y_pred))\n",
    "    r.append(round(r2_score(y_test,y_pred)*100,4))\n",
    "    return (r)\n",
    "\n",
    "#DataFrame that stores the performance of each model\n",
    "accu = pd.DataFrame(index=['MSLE', 'Root MSLE', 'R2 Score','Accuracy(%)'])   "
   ]
  },
  {
   "cell_type": "markdown",
   "id": "646f2c09",
   "metadata": {},
   "source": [
    "## 3. Model Implementation\n",
    "\n",
    "> - a. Linear Regression\n",
    "> - b. Ridge Regression\n",
    "> - c. Lasso Regression\n",
    "> - d. K-Neighbors Regressor\n",
    "> - e. Random Forest Regressor\n",
    "> - f. Bagging Regressor\n",
    "> - g. Adaboost Regressor\n",
    "> - h. XGBoost"
   ]
  },
  {
   "cell_type": "markdown",
   "id": "603c4719",
   "metadata": {},
   "source": [
    "## 3a. Linear Regression"
   ]
  },
  {
   "cell_type": "code",
   "execution_count": 10,
   "id": "10a24de8",
   "metadata": {},
   "outputs": [],
   "source": [
    "#Best fit model\n",
    "LR = LinearRegression()\n",
    "LR.fit(X_train,y_train)\n",
    "y_pred = LR.predict(X_test)"
   ]
  },
  {
   "cell_type": "code",
   "execution_count": 11,
   "id": "4c99e350",
   "metadata": {},
   "outputs": [
    {
     "name": "stdout",
     "output_type": "stream",
     "text": [
      "Coefficients: \n",
      " [-0.03485673  0.2804355  -0.07309853  0.00386527  0.00052722  0.28580943\n",
      "  0.00780579]\n",
      "MSLE : 0.000846250607128591\n",
      "Root MSLE : 0.029090386850789574\n",
      "R2 Score : 0.6678172854062833 or 66.7817%\n"
     ]
    }
   ],
   "source": [
    "#Calculate error/accuracy\n",
    "y_test_1,y_pred_1=remove_neg(y_test,y_pred)\n",
    "r1_lr = result(y_test_1,y_pred_1)\n",
    "print('Coefficients: \\n', LR.coef_)\n",
    "print(\"MSLE : {}\".format(r1_lr[0]))\n",
    "print(\"Root MSLE : {}\".format(r1_lr[1]))\n",
    "print(\"R2 Score : {} or {}%\".format(r1_lr[2],r1_lr[3]))\n",
    "accu['Linear Regression'] = r1_lr"
   ]
  },
  {
   "cell_type": "code",
   "execution_count": 12,
   "id": "9d26a596",
   "metadata": {},
   "outputs": [
    {
     "data": {
      "image/png": "[encoded data removed]",
      "text/plain": [
       "<Figure size 432x288 with 1 Axes>"
      ]
     },
     "metadata": {
      "needs_background": "light"
     },
     "output_type": "display_data"
    }
   ],
   "source": [
    "#Plot feature importance graph\n",
    "coef = pd.Series(LR.coef_, index = X_train.columns)\n",
    "imp_coef = coef.sort_values()\n",
    "matplotlib.rcParams['figure.figsize'] = (6.0, 6.0)\n",
    "imp_coef.plot(kind = \"barh\")\n",
    "plt.title(\"Feature Importance Using Linear Regression Model\")\n",
    "plt.savefig('/Users/gobinathsindhuja/Desktop/Prospa_assignment/supervised_learning_project/assets/img/MachineLearning/Linear-Regression-Feature-Importance.jpg')\n",
    "plt.show()"
   ]
  },
  {
   "cell_type": "code",
   "execution_count": 13,
   "id": "85b4f80e",
   "metadata": {},
   "outputs": [
    {
     "data": {
      "image/png": "[encoded data removed]",
      "text/plain": [
       "<Figure size 720x432 with 1 Axes>"
      ]
     },
     "metadata": {
      "needs_background": "light"
     },
     "output_type": "display_data"
    }
   ],
   "source": [
    "#Visualization of true value and predicted\n",
    "df_check = pd.DataFrame({'Actual': y_test_1, 'Predicted': y_pred_1})\n",
    "df_check = df_check.sample(20)\n",
    "df_check.plot(kind='bar',figsize = (10,6))\n",
    "plt.grid(which ='major', linestyle ='-', linewidth ='0.1', color ='Green')\n",
    "plt.title('Performance of Linear Regression')\n",
    "plt.savefig('/Users/gobinathsindhuja/Desktop/Prospa_assignment/supervised_learning_project/assets/img/MachineLearning/Linear-Regression-Performance')\n",
    "plt.show()"
   ]
  },
  {
   "cell_type": "markdown",
   "id": "c21985f3",
   "metadata": {},
   "source": [
    "### 3b. Ridge regression"
   ]
  },
  {
   "cell_type": "code",
   "execution_count": 14,
   "id": "ee861184",
   "metadata": {},
   "outputs": [
    {
     "data": {
      "image/png": "[encoded data removed]",
      "text/plain": [
       "<Figure size 432x288 with 1 Axes>"
      ]
     },
     "metadata": {
      "needs_background": "light"
     },
     "output_type": "display_data"
    },
    {
     "data": {
      "text/plain": [
       "<AxesSubplot:title={'center':'RidgeCV Alpha Error'}, xlabel='alpha', ylabel='error (or score)'>"
      ]
     },
     "execution_count": 14,
     "metadata": {},
     "output_type": "execute_result"
    }
   ],
   "source": [
    "#Predicting alpha value\n",
    "alphas = 10**np.linspace(10,-2,400)\n",
    "model = RidgeCV(alphas = alphas)\n",
    "visualizer = AlphaSelection(model)\n",
    "visualizer.fit(X_train,y_train)\n",
    "visualizer.show()"
   ]
  },
  {
   "cell_type": "code",
   "execution_count": 15,
   "id": "03ff01c3",
   "metadata": {},
   "outputs": [],
   "source": [
    "#Model object and fit model\n",
    "RR=Ridge(alpha = 20.336,solver ='auto')\n",
    "RR.fit(X_train,y_train)\n",
    "y_pred = RR.predict(X_test)"
   ]
  },
  {
   "cell_type": "code",
   "execution_count": 16,
   "id": "54f0589f",
   "metadata": {},
   "outputs": [
    {
     "name": "stdout",
     "output_type": "stream",
     "text": [
      "MSLE : 0.0008462509091173738\n",
      "Root MSLE : 0.029090392041314497\n",
      "R2 Score : 0.6678165665246123 or 66.7817%\n"
     ]
    }
   ],
   "source": [
    "#Model evaluation\n",
    "y_test_2,y_pred_2 = remove_neg(y_test,y_pred)\n",
    "r2_ridge = result(y_test_2,y_pred_2)\n",
    "print(\"MSLE : {}\".format(r2_ridge[0]))\n",
    "print(\"Root MSLE : {}\".format(r2_ridge[1]))\n",
    "print(\"R2 Score : {} or {}%\".format(r2_ridge[2],r2_ridge[3]))\n",
    "accu['Ridge Regression'] = r2_ridge"
   ]
  },
  {
   "cell_type": "code",
   "execution_count": 17,
   "id": "c421b869",
   "metadata": {},
   "outputs": [
    {
     "data": {
      "image/png": "[encoded data removed]",
      "text/plain": [
       "<Figure size 432x432 with 1 Axes>"
      ]
     },
     "metadata": {
      "needs_background": "light"
     },
     "output_type": "display_data"
    }
   ],
   "source": [
    "#Feature Importance graph\n",
    "coef = pd.Series(RR.coef_, index = X_train.columns)\n",
    "imp_coef = coef.sort_values()\n",
    "matplotlib.rcParams['figure.figsize'] = (6.0, 6.0)\n",
    "imp_coef.plot(kind = \"barh\")\n",
    "plt.title(\"Feature Importance Using Ridge Model\")\n",
    "plt.savefig('/Users/gobinathsindhuja/Desktop/Prospa_assignment/supervised_learning_project/assets/img/MachineLearning/Ridge-Regression-Feature-Importance.jpg')\n",
    "plt.show()"
   ]
  },
  {
   "cell_type": "markdown",
   "id": "ec4e0e7b",
   "metadata": {},
   "source": [
    "### 3c. Lasso Regression"
   ]
  },
  {
   "cell_type": "code",
   "execution_count": 18,
   "id": "f2a82871",
   "metadata": {},
   "outputs": [],
   "source": [
    "#Model object and fit\n",
    "lasso = Lasso(alpha=0.0001)\n",
    "lasso.fit(X_train,y_train)\n",
    "y_pred = lasso.predict(X_test)"
   ]
  },
  {
   "cell_type": "code",
   "execution_count": 19,
   "id": "696e18e0",
   "metadata": {},
   "outputs": [
    {
     "name": "stdout",
     "output_type": "stream",
     "text": [
      "MSLE : 0.0008462727954668625\n",
      "Root MSLE : 0.029090768217200153\n",
      "R2 Score : 0.6678070914566148 or 66.7807%\n"
     ]
    }
   ],
   "source": [
    "#Model evaluation\n",
    "y_test_3,y_pred_3 = remove_neg(y_test,y_pred)\n",
    "r3_lasso = result(y_test_3,y_pred_3)\n",
    "print(\"MSLE : {}\".format(r3_lasso[0]))\n",
    "print(\"Root MSLE : {}\".format(r3_lasso[1]))\n",
    "print(\"R2 Score : {} or {}%\".format(r3_lasso[2],r3_lasso[3]))\n",
    "accu['Lasso']=r3_lasso"
   ]
  },
  {
   "cell_type": "markdown",
   "id": "9741f757",
   "metadata": {},
   "source": [
    "### 3d. KNN"
   ]
  },
  {
   "cell_type": "code",
   "execution_count": 20,
   "id": "c847ca5f",
   "metadata": {},
   "outputs": [
    {
     "name": "stdout",
     "output_type": "stream",
     "text": [
      "K = 1  , Root MSLE = 0.017766807544813284\n",
      "K = 2  , Root MSLE = 0.015764793245861775\n",
      "K = 3  , Root MSLE = 0.015246750967044934\n",
      "K = 4  , Root MSLE = 0.014954741417266635\n",
      "K = 5  , Root MSLE = 0.014824212017340752\n",
      "K = 6  , Root MSLE = 0.014760518343558167\n",
      "K = 7  , Root MSLE = 0.014763507780539014\n",
      "K = 8  , Root MSLE = 0.014808689733008461\n",
      "K = 9  , Root MSLE = 0.014857345089345478\n"
     ]
    }
   ],
   "source": [
    "#Estimate MSLE for k=1-9\n",
    "R_MSLE = []\n",
    "for i in range(1,10):\n",
    "    KNN = KNeighborsRegressor(n_neighbors = i)\n",
    "    KNN.fit(X_train,y_train)\n",
    "    y_pred = KNN.predict(X_test)\n",
    "    error = np.sqrt(mean_squared_log_error(y_test, y_pred))\n",
    "    R_MSLE.append(error)\n",
    "    print(\"K =\",i,\" , Root MSLE =\",error)"
   ]
  },
  {
   "cell_type": "code",
   "execution_count": 21,
   "id": "a09b66de",
   "metadata": {},
   "outputs": [
    {
     "data": {
      "image/png": "[encoded data removed]",
      "text/plain": [
       "<Figure size 576x288 with 1 Axes>"
      ]
     },
     "metadata": {
      "needs_background": "light"
     },
     "output_type": "display_data"
    }
   ],
   "source": [
    "#Plotting error\n",
    "curve = pd.DataFrame(R_MSLE) #elbow curve \n",
    "plt.figure(figsize=(8,4))\n",
    "plt.xticks(list(range(1,10)), list(range(1,10)), rotation='horizontal')\n",
    "plt.plot(list(range(1,10)),R_MSLE)\n",
    "plt.xlabel('K')\n",
    "plt.ylabel('Mean Squared Log Error')\n",
    "plt.title('Error Plot for Each K')\n",
    "plt.savefig('/Users/gobinathsindhuja/Desktop/Prospa_assignment/supervised_learning_project/assets/img/MachineLearning/KNN-Error-Plot.jpg')\n",
    "plt.show()"
   ]
  },
  {
   "cell_type": "code",
   "execution_count": 22,
   "id": "7e0b4b3d",
   "metadata": {},
   "outputs": [],
   "source": [
    "#Model implementation\n",
    "KNN = KNeighborsRegressor(n_neighbors=5) \n",
    "KNN.fit(X_train,y_train)\n",
    "y_pred = KNN.predict(X_test)"
   ]
  },
  {
   "cell_type": "code",
   "execution_count": 23,
   "id": "65bbbcd0",
   "metadata": {},
   "outputs": [
    {
     "name": "stdout",
     "output_type": "stream",
     "text": [
      "MSLE : 0.00021975726193506996\n",
      "Root MSLE : 0.014824212017340752\n",
      "R2 Score : 0.9167288291956442 or 91.6729%\n"
     ]
    }
   ],
   "source": [
    "#Model evaluation\n",
    "r4_knn=result(y_test,y_pred)\n",
    "print(\"MSLE : {}\".format(r4_knn[0]))\n",
    "print(\"Root MSLE : {}\".format(r4_knn[1]))\n",
    "print(\"R2 Score : {} or {}%\".format(r4_knn[2],r4_knn[3]))\n",
    "accu['KNeighbors Regressor']=r4_knn"
   ]
  },
  {
   "cell_type": "code",
   "execution_count": 24,
   "id": "54eb65fa",
   "metadata": {},
   "outputs": [],
   "source": [
    "accu.to_csv('/Users/gobinathsindhuja/Desktop/Prospa_assignment/supervised_learning_project/reports/errors.csv')"
   ]
  },
  {
   "cell_type": "markdown",
   "id": "440f4d3e",
   "metadata": {},
   "source": [
    "### 3e. Random Forest"
   ]
  },
  {
   "cell_type": "code",
   "execution_count": 25,
   "id": "e9332a90",
   "metadata": {},
   "outputs": [],
   "source": [
    "RFR = RandomForestRegressor(n_estimators=200,random_state=0, min_samples_leaf=1, \n",
    "                            max_features=0.5, n_jobs=-1, oob_score=True)\n",
    "RFR.fit(X_train,y_train)\n",
    "y_pred = RFR.predict(X_test)"
   ]
  },
  {
   "cell_type": "code",
   "execution_count": 26,
   "id": "0237f022",
   "metadata": {},
   "outputs": [
    {
     "name": "stdout",
     "output_type": "stream",
     "text": [
      "MSLE : 0.00018668928130895427\n",
      "Root MSLE : 0.013663428607379418\n",
      "R2 Score : 0.9293523440823636 or 92.9352%\n"
     ]
    }
   ],
   "source": [
    "r5_rf=result(y_test,y_pred)\n",
    "print(\"MSLE : {}\".format(r5_rf[0]))\n",
    "print(\"Root MSLE : {}\".format(r5_rf[1]))\n",
    "print(\"R2 Score : {} or {}%\".format(r5_rf[2],r5_rf[3]))\n",
    "accu['RandomForest Regressor']=r5_rf"
   ]
  },
  {
   "cell_type": "code",
   "execution_count": 27,
   "id": "81a76fa1",
   "metadata": {},
   "outputs": [
    {
     "data": {
      "image/png": "[encoded data removed]",
      "text/plain": [
       "<Figure size 720x360 with 1 Axes>"
      ]
     },
     "metadata": {
      "needs_background": "light"
     },
     "output_type": "display_data"
    }
   ],
   "source": [
    "df_check = pd.DataFrame({'Actual': y_test, 'Predicted': y_pred})\n",
    "df_check = df_check.head(25)\n",
    "df_check.plot(kind='bar',figsize=(10,5))\n",
    "plt.grid(which='major', linestyle='-', linewidth='0.5', color='green')\n",
    "plt.title('Performance of Random Forest')\n",
    "plt.ylabel('Mean Squared Log Error')\n",
    "plt.savefig('/Users/gobinathsindhuja/Desktop/Prospa_assignment/supervised_learning_project/assets/img/MachineLearning/Random-Forest-Performance.jpg')\n",
    "plt.show()"
   ]
  },
  {
   "cell_type": "code",
   "execution_count": 28,
   "id": "b06dab92",
   "metadata": {},
   "outputs": [
    {
     "data": {
      "image/png": "[encoded data removed]",
      "text/plain": [
       "<Figure size 432x432 with 1 Axes>"
      ]
     },
     "metadata": {
      "needs_background": "light"
     },
     "output_type": "display_data"
    }
   ],
   "source": [
    "importances=RFR.feature_importances_\n",
    "features=X_train.columns\n",
    "\n",
    "# List of x locations for plotting\n",
    "x_values = list(range(len(importances)))\n",
    "# Make a bar chart\n",
    "plt.figure(figsize=(6,6))\n",
    "plt.bar(x_values, importances)\n",
    "# Tick labels for x axis\n",
    "plt.xticks(x_values, features, rotation=(90))\n",
    "# Axis labels and title\n",
    "plt.ylabel('Importance'); \n",
    "plt.xlabel('Variable/Features'); \n",
    "plt.title('Random Forest Variables Importance')\n",
    "plt.tight_layout()\n",
    "plt.savefig('/Users/gobinathsindhuja/Desktop/Prospa_assignment/supervised_learning_project/assets/img/MachineLearning/Random-Forest-Variables-Importances.jpg',dpi=600)\n",
    "plt.show();"
   ]
  },
  {
   "cell_type": "markdown",
   "id": "68c544b7",
   "metadata": {},
   "source": [
    "### 3f. Bagging Regressor"
   ]
  },
  {
   "cell_type": "code",
   "execution_count": 29,
   "id": "6a479a7f",
   "metadata": {},
   "outputs": [],
   "source": [
    "#Model implementation\n",
    "baggReg = BaggingRegressor(base_estimator=DecisionTreeRegressor(max_depth=20),n_estimators=50, random_state=1,\n",
    "                         max_samples=1.0, max_features=1.0, bootstrap=False, \n",
    "                         bootstrap_features=False, oob_score=False, warm_start=False, n_jobs=-1, verbose=0)\n",
    "baggReg.fit(X_train,y_train)\n",
    "y_pred=baggReg.predict(X_test)"
   ]
  },
  {
   "cell_type": "code",
   "execution_count": 30,
   "id": "1f84c0ba",
   "metadata": {},
   "outputs": [
    {
     "name": "stdout",
     "output_type": "stream",
     "text": [
      "MSLE : 0.00028041179085297913\n",
      "Root MSLE : 0.016745500615179564\n",
      "R2 Score : 0.8943483726405516 or 89.4348%\n"
     ]
    }
   ],
   "source": [
    "#Model evaluation\n",
    "r6_br=result(y_test,y_pred)\n",
    "print(\"MSLE : {}\".format(r6_br[0]))\n",
    "print(\"Root MSLE : {}\".format(r6_br[1]))\n",
    "print(\"R2 Score : {} or {}%\".format(r6_br[2],r6_br[3]))"
   ]
  },
  {
   "cell_type": "code",
   "execution_count": 31,
   "id": "43c07730",
   "metadata": {},
   "outputs": [],
   "source": [
    "accu['Bagging Regressor']=r6_br\n",
    "accu.to_csv('/Users/gobinathsindhuja/Desktop/Prospa_assignment/supervised_learning_project/reports/errors.csv')"
   ]
  },
  {
   "cell_type": "markdown",
   "id": "656c5e7c",
   "metadata": {},
   "source": [
    "### 3g. Adaboost"
   ]
  },
  {
   "cell_type": "code",
   "execution_count": 32,
   "id": "cac281cb",
   "metadata": {},
   "outputs": [],
   "source": [
    "#Model implementation\n",
    "ABR = AdaBoostRegressor(\n",
    "    DecisionTreeRegressor(max_depth=24),\n",
    "    n_estimators=200,learning_rate=0.6)\n",
    "\n",
    "ABR.fit(X_train, y_train)\n",
    "y_pred = ABR.predict(X_test)"
   ]
  },
  {
   "cell_type": "code",
   "execution_count": 33,
   "id": "d1427dc4",
   "metadata": {},
   "outputs": [
    {
     "name": "stdout",
     "output_type": "stream",
     "text": [
      "MSLE : 0.0001951612723818725\n",
      "Root MSLE : 0.013970013327906044\n",
      "R2 Score : 0.9262897725699563 or 92.629%\n"
     ]
    }
   ],
   "source": [
    "#Model evaluation\n",
    "r7_ab=result(y_test,y_pred)\n",
    "print(\"MSLE : {}\".format(r7_ab[0]))\n",
    "print(\"Root MSLE : {}\".format(r7_ab[1]))\n",
    "print(\"R2 Score : {} or {}%\".format(r7_ab[2],r7_ab[3]))"
   ]
  },
  {
   "cell_type": "code",
   "execution_count": 34,
   "id": "5e22ffff",
   "metadata": {},
   "outputs": [
    {
     "data": {
      "image/png": "[encoded data removed]",
      "text/plain": [
       "<Figure size 432x432 with 1 Axes>"
      ]
     },
     "metadata": {
      "needs_background": "light"
     },
     "output_type": "display_data"
    }
   ],
   "source": [
    "importances = ABR.feature_importances_\n",
    "features = X_train.columns\n",
    "\n",
    "indices = np.argsort(importances)\n",
    "indices = [x for x in reversed(indices)]\n",
    "plt.figure(1)\n",
    "plt.title('Features Importance Using Adaboost')\n",
    "plt.barh(range(len(indices)), importances[indices], color='g', align='center')\n",
    "plt.yticks(range(len(indices)), features[indices])\n",
    "plt.xlabel('Relative Importance')\n",
    "plt.ylabel('Features')\n",
    "plt.tight_layout()\n",
    "plt.savefig('/Users/gobinathsindhuja/Desktop/Prospa_assignment/supervised_learning_project/assets/img/MachineLearning/Adaboost-Features-Importance2.jpg',dpi=60)\n",
    "plt.show();"
   ]
  },
  {
   "cell_type": "code",
   "execution_count": 35,
   "id": "9ea8b5b6",
   "metadata": {},
   "outputs": [],
   "source": [
    "accu['AdaBoost Regressor']=r7_ab\n",
    "accu.to_csv('/Users/gobinathsindhuja/Desktop/Prospa_assignment/supervised_learning_project/reports/errors.csv')"
   ]
  },
  {
   "cell_type": "markdown",
   "id": "891ff3d8",
   "metadata": {},
   "source": [
    "### 3h. XGBoost"
   ]
  },
  {
   "cell_type": "code",
   "execution_count": 36,
   "id": "946188bd",
   "metadata": {},
   "outputs": [],
   "source": [
    "#Model implementation and fitting data\n",
    "xg_reg = xgb.XGBRegressor(objective ='reg:squarederror', learning_rate = 0.4,\n",
    "                max_depth = 24, alpha = 5, n_estimators = 200)\n",
    "xg_reg.fit(X_train,y_train)\n",
    "y_pred = xg_reg.predict(X_test)"
   ]
  },
  {
   "cell_type": "code",
   "execution_count": 37,
   "id": "7f0a12aa",
   "metadata": {},
   "outputs": [
    {
     "name": "stdout",
     "output_type": "stream",
     "text": [
      "MSLE : 0.00017184439401514328\n",
      "Root MSLE : 0.013108943283695421\n",
      "R2 Score : 0.9348410621328321 or 93.4841%\n"
     ]
    }
   ],
   "source": [
    "#Model evaluation\n",
    "y_test_1,y_pred_1 = remove_neg(y_test,y_pred)\n",
    "r8_xg = result(y_test_1,y_pred_1)\n",
    "print(\"MSLE : {}\".format(r8_xg[0]))\n",
    "print(\"Root MSLE : {}\".format(r8_xg[1]))\n",
    "print(\"R2 Score : {} or {}%\".format(r8_xg[2],r8_xg[3]))"
   ]
  },
  {
   "cell_type": "code",
   "execution_count": 38,
   "id": "2147b16b",
   "metadata": {},
   "outputs": [
    {
     "data": {
      "image/png": "[encoded data removed]",
      "text/plain": [
       "<Figure size 432x432 with 1 Axes>"
      ]
     },
     "metadata": {
      "needs_background": "light"
     },
     "output_type": "display_data"
    }
   ],
   "source": [
    "#Plot Feature Importance Graph\n",
    "xgb.plot_importance(xg_reg)\n",
    "plt.rcParams['figure.figsize'] = [5, 5]\n",
    "plt.tight_layout()\n",
    "plt.title('Features Importance Using XGBoost')\n",
    "plt.xlabel('Relative Importance')\n",
    "plt.ylabel('Features')\n",
    "plt.savefig('/Users/gobinathsindhuja/Desktop/Prospa_assignment/supervised_learning_project/assets/img/MachineLearning/XGBoost-Features-Importance.jpg')\n",
    "plt.show()"
   ]
  },
  {
   "cell_type": "code",
   "execution_count": 39,
   "id": "86431d02",
   "metadata": {},
   "outputs": [
    {
     "data": {
      "image/png": "[encoded data removed]",
      "text/plain": [
       "<Figure size 720x432 with 1 Axes>"
      ]
     },
     "metadata": {
      "needs_background": "light"
     },
     "output_type": "display_data"
    }
   ],
   "source": [
    "#Visualization of true value and predicted\n",
    "df_check = pd.DataFrame({'Actual': y_test, 'Predicted': y_pred})\n",
    "df_check = df_check.sample(20)\n",
    "df_check.plot(kind='bar',figsize = (10,6))\n",
    "plt.grid(which ='major', linestyle ='-', linewidth ='0.1', color ='Green')\n",
    "plt.title('Performance of XGBoost')\n",
    "plt.savefig('/Users/gobinathsindhuja/Desktop/Prospa_assignment/supervised_learning_project/assets/img/MachineLearning/XGBoost-Performance')\n",
    "plt.show()"
   ]
  },
  {
   "cell_type": "code",
   "execution_count": 40,
   "id": "4c3c8bf4",
   "metadata": {},
   "outputs": [],
   "source": [
    "accu['XGBoost']=r8_xg\n",
    "accu.to_csv('/Users/gobinathsindhuja/Desktop/Prospa_assignment/supervised_learning_project/reports/errors.csv')"
   ]
  },
  {
   "cell_type": "markdown",
   "id": "70983e1b",
   "metadata": {},
   "source": [
    "## Overall Result"
   ]
  },
  {
   "cell_type": "code",
   "execution_count": 41,
   "id": "f2ba8996",
   "metadata": {},
   "outputs": [
    {
     "data": {
      "text/html": [
       "<div>\n",
       "<style scoped>\n",
       "    .dataframe tbody tr th:only-of-type {\n",
       "        vertical-align: middle;\n",
       "    }\n",
       "\n",
       "    .dataframe tbody tr th {\n",
       "        vertical-align: top;\n",
       "    }\n",
       "\n",
       "    .dataframe thead th {\n",
       "        text-align: right;\n",
       "    }\n",
       "</style>\n",
       "<table border=\"1\" class=\"dataframe\">\n",
       "  <thead>\n",
       "    <tr style=\"text-align: right;\">\n",
       "      <th></th>\n",
       "      <th>Linear Regression</th>\n",
       "      <th>Ridge Regression</th>\n",
       "      <th>Lasso</th>\n",
       "      <th>KNeighbors Regressor</th>\n",
       "      <th>RandomForest Regressor</th>\n",
       "      <th>Bagging Regressor</th>\n",
       "      <th>AdaBoost Regressor</th>\n",
       "      <th>XGBoost</th>\n",
       "    </tr>\n",
       "  </thead>\n",
       "  <tbody>\n",
       "    <tr>\n",
       "      <th>MSLE</th>\n",
       "      <td>0.000846</td>\n",
       "      <td>0.000846</td>\n",
       "      <td>0.000846</td>\n",
       "      <td>0.000220</td>\n",
       "      <td>0.000187</td>\n",
       "      <td>0.000280</td>\n",
       "      <td>0.000195</td>\n",
       "      <td>0.000172</td>\n",
       "    </tr>\n",
       "    <tr>\n",
       "      <th>Root MSLE</th>\n",
       "      <td>0.029090</td>\n",
       "      <td>0.029090</td>\n",
       "      <td>0.029091</td>\n",
       "      <td>0.014824</td>\n",
       "      <td>0.013663</td>\n",
       "      <td>0.016746</td>\n",
       "      <td>0.013970</td>\n",
       "      <td>0.013109</td>\n",
       "    </tr>\n",
       "    <tr>\n",
       "      <th>R2 Score</th>\n",
       "      <td>0.667817</td>\n",
       "      <td>0.667817</td>\n",
       "      <td>0.667807</td>\n",
       "      <td>0.916729</td>\n",
       "      <td>0.929352</td>\n",
       "      <td>0.894348</td>\n",
       "      <td>0.926290</td>\n",
       "      <td>0.934841</td>\n",
       "    </tr>\n",
       "    <tr>\n",
       "      <th>Accuracy(%)</th>\n",
       "      <td>66.781700</td>\n",
       "      <td>66.781700</td>\n",
       "      <td>66.780700</td>\n",
       "      <td>91.672900</td>\n",
       "      <td>92.935200</td>\n",
       "      <td>89.434800</td>\n",
       "      <td>92.629000</td>\n",
       "      <td>93.484100</td>\n",
       "    </tr>\n",
       "  </tbody>\n",
       "</table>\n",
       "</div>"
      ],
      "text/plain": [
       "             Linear Regression  Ridge Regression      Lasso  \\\n",
       "MSLE                  0.000846          0.000846   0.000846   \n",
       "Root MSLE             0.029090          0.029090   0.029091   \n",
       "R2 Score              0.667817          0.667817   0.667807   \n",
       "Accuracy(%)          66.781700         66.781700  66.780700   \n",
       "\n",
       "             KNeighbors Regressor  RandomForest Regressor  Bagging Regressor  \\\n",
       "MSLE                     0.000220                0.000187           0.000280   \n",
       "Root MSLE                0.014824                0.013663           0.016746   \n",
       "R2 Score                 0.916729                0.929352           0.894348   \n",
       "Accuracy(%)             91.672900               92.935200          89.434800   \n",
       "\n",
       "             AdaBoost Regressor    XGBoost  \n",
       "MSLE                   0.000195   0.000172  \n",
       "Root MSLE              0.013970   0.013109  \n",
       "R2 Score               0.926290   0.934841  \n",
       "Accuracy(%)           92.629000  93.484100  "
      ]
     },
     "execution_count": 41,
     "metadata": {},
     "output_type": "execute_result"
    }
   ],
   "source": [
    "accu = pd.read_csv('/Users/gobinathsindhuja/Desktop/Prospa_assignment/supervised_learning_project/reports/errors.csv',index_col=0)\n",
    "accu"
   ]
  },
  {
   "cell_type": "code",
   "execution_count": 42,
   "id": "463708fb",
   "metadata": {},
   "outputs": [],
   "source": [
    "model_accuracy=accu.loc['Accuracy(%)']"
   ]
  },
  {
   "cell_type": "code",
   "execution_count": 43,
   "id": "03a83295",
   "metadata": {},
   "outputs": [
    {
     "data": {
      "image/png": "[encoded data removed]",
      "text/plain": [
       "<Figure size 1440x432 with 1 Axes>"
      ]
     },
     "metadata": {
      "needs_background": "light"
     },
     "output_type": "display_data"
    }
   ],
   "source": [
    "x = list(range(len(model_accuracy)))\n",
    "y = list(range(0,101,10))\n",
    "props = dict(boxstyle='round', facecolor='white', alpha=0.8)\n",
    "plt.figure(figsize=(20,6))\n",
    "plt.plot(model_accuracy)\n",
    "plt.yticks(y)\n",
    "plt.xticks(fontsize=20)\n",
    "plt.xticks(rotation = (10))\n",
    "plt.xlabel(\"Models\",fontsize=30)\n",
    "plt.ylabel(\"Accuracy(%)\",fontsize=30)\n",
    "plt.title(\"Performance of Models\")\n",
    "for a,b in zip(x,y):\n",
    "    b=model_accuracy[a]\n",
    "    val=\"(\"+str(round(model_accuracy[a],2))+\" %)\"\n",
    "    plt.text(a, b+4.5, val,horizontalalignment='center',verticalalignment='center',color='green',bbox=props)\n",
    "    plt.text(a, b+3.5, '.',horizontalalignment='center',verticalalignment='center',color='red',fontsize=50)\n",
    "plt.tight_layout()\n",
    "plt.savefig('/Users/gobinathsindhuja/Desktop/Prospa_assignment/supervised_learning_project/assets/img/MachineLearning/Overall-Performance.jpg',dpi=600)\n",
    "plt.show();"
   ]
  },
  {
   "cell_type": "markdown",
   "id": "1b8968a0",
   "metadata": {},
   "source": [
    "### Save the XGBoost Model for Deployment in Web App\n"
   ]
  },
  {
   "cell_type": "code",
   "execution_count": 44,
   "id": "7f368efa",
   "metadata": {},
   "outputs": [],
   "source": [
    "import pickle\n",
    "\n",
    "with open('/Users/gobinathsindhuja/Desktop/Prospa_assignment/supervised_learning_project/model/Sales_price_model_xgboost.pkl', 'wb') as file:\n",
    "    pickle.dump(xg_reg, file)"
   ]
  },
  {
   "cell_type": "code",
   "execution_count": null,
   "id": "f6e1b4f7",
   "metadata": {},
   "outputs": [],
   "source": []
  }
 ],
 "metadata": {
  "kernelspec": {
   "display_name": "Python 3 (ipykernel)",
   "language": "python",
   "name": "python3"
  },
  "language_info": {
   "codemirror_mode": {
    "name": "ipython",
    "version": 3
   },
   "file_extension": ".py",
   "mimetype": "text/x-python",
   "name": "python",
   "nbconvert_exporter": "python",
   "pygments_lexer": "ipython3",
   "version": "3.10.4"
  }
 },
 "nbformat": 4,
 "nbformat_minor": 5
}
